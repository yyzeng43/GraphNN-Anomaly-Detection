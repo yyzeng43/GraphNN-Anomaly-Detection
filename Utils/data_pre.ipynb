{
 "cells": [
  {
   "cell_type": "code",
   "execution_count": 46,
   "metadata": {
    "collapsed": true
   },
   "outputs": [],
   "source": [
    "import numpy as np\n",
    "import pandas as pd\n",
    "import matplotlib.pyplot as plt\n"
   ]
  },
  {
   "cell_type": "code",
   "execution_count": 47,
   "outputs": [],
   "source": [
    "# # read all data - process the NaNs in dataframe\n",
    "# data_path = r'C:\\Users\\Thaibite Zeng\\OneDrive - Virginia Tech\\Virginia Tech\\Courses\\2023 Spring\\CS6804\\Project'\n",
    "# df_sorted = pd.read_csv(data_path + '/formated_data.csv')\n",
    "# df = df_sorted.dropna(subset=['moteid'])\n",
    "# df['time_formatted'] = pd.to_datetime(df['time_formatted'])\n",
    "# df.set_index('time_formatted', inplace=True)\n",
    "# feature_set = ['temperature', 'humidity', 'light', 'voltage']\n",
    "# time_period = '5T'\n",
    "# for feature in feature_set:\n",
    "#     df[feature] = df[feature].fillna(df.groupby([pd.Grouper(freq=time_period), 'moteid'])[feature].transform('mean'))\n",
    "#\n",
    "# df = df_sorted.dropna(subset=feature_set)\n",
    "#"
   ],
   "metadata": {
    "collapsed": false
   }
  },
  {
   "cell_type": "code",
   "execution_count": 48,
   "outputs": [],
   "source": [
    "# grouped_data = df.groupby('moteid')\n",
    "# grouped_data['temperature'].describe()"
   ],
   "metadata": {
    "collapsed": false
   }
  },
  {
   "cell_type": "code",
   "execution_count": 49,
   "outputs": [],
   "source": [
    "# # delete rows of specific moteids with small sample size\n",
    "# moteids_to_remove = [15, 55, 56, 58]\n",
    "# filtered_df = df[~df['moteid'].isin(moteids_to_remove)]\n",
    "# filtered_df.head()\n",
    "#"
   ],
   "metadata": {
    "collapsed": false
   }
  },
  {
   "cell_type": "code",
   "execution_count": 50,
   "outputs": [],
   "source": [
    "# grouped_data = filtered_df.groupby('moteid')\n",
    "# grouped_data['humidity'].describe()"
   ],
   "metadata": {
    "collapsed": false
   }
  },
  {
   "cell_type": "code",
   "execution_count": 51,
   "outputs": [],
   "source": [
    "# # clean the humidity min value --> delete the one less than -4\n",
    "# filtered_df = filtered_df[filtered_df['humidity'] >= -4]"
   ],
   "metadata": {
    "collapsed": false
   }
  },
  {
   "cell_type": "code",
   "execution_count": 52,
   "outputs": [],
   "source": [
    "# grouped_data = filtered_df.groupby('moteid')\n",
    "# grouped_data['light'].describe()"
   ],
   "metadata": {
    "collapsed": false
   }
  },
  {
   "cell_type": "code",
   "execution_count": 53,
   "outputs": [],
   "source": [
    "# grouped_data = filtered_df.groupby('moteid')\n",
    "# grouped_data['voltage'].describe()"
   ],
   "metadata": {
    "collapsed": false
   }
  },
  {
   "cell_type": "markdown",
   "source": [
    "#Convert the time stamp of each moteid -- align at the same time stamp --> same epoch means same time stamp"
   ],
   "metadata": {
    "collapsed": false
   }
  },
  {
   "cell_type": "code",
   "execution_count": 54,
   "outputs": [],
   "source": [
    "# old = '2004-02-28 00:59:16'\n",
    "# new = '2004-03-11 18:27:40'\n",
    "# for moteid, subframe in grouped_data:\n",
    "#     print(moteid)\n",
    "#     print('Oldest:', subframe['time_formatted'].min())\n",
    "#     print('Latest:', subframe['time_formatted'].max())\n",
    "#     if old < subframe['time_formatted'].min():\n",
    "#         old = subframe['time_formatted'].min()\n",
    "#     if new > subframe['time_formatted'].max():\n",
    "#         new = subframe['time_formatted'].max()\n",
    "#\n",
    "# print(old)\n",
    "# print(new)"
   ],
   "metadata": {
    "collapsed": false
   }
  },
  {
   "cell_type": "code",
   "execution_count": 55,
   "outputs": [],
   "source": [
    "# filtered_df.set_index('time_formatted', inplace=True)\n",
    "# resample_frequency = '30S'\n",
    "# grouped_data = filtered_df.groupby('moteid')"
   ],
   "metadata": {
    "collapsed": false
   }
  },
  {
   "cell_type": "code",
   "execution_count": 56,
   "outputs": [],
   "source": [
    "# resampled_subframes = []\n",
    "#\n",
    "# # create the index with the start and end times you want\n",
    "# start_time, end_time = '2004-02-28 01:18:46', '2004-03-11 18:27:40'\n",
    "# for moteid, subframe in grouped_data:\n",
    "#     truncated_subframe = subframe.truncate(before=start_time, after=end_time)\n",
    "#     truncated_subframe.index = pd.to_datetime(truncated_subframe.index)\n",
    "#     resampled_subframe = truncated_subframe.resample(resample_frequency).mean()\n",
    "#     resampled_subframes.append(resampled_subframe)\n",
    "# resampled_df = pd.concat(resampled_subframes)\n",
    "#\n",
    "# resampled_df.head()"
   ],
   "metadata": {
    "collapsed": false
   }
  },
  {
   "cell_type": "code",
   "execution_count": 57,
   "outputs": [],
   "source": [
    "# # fill the NaNs\n",
    "# interpolated_df = resampled_df.interpolate()\n",
    "# interpolated_df"
   ],
   "metadata": {
    "collapsed": false
   }
  },
  {
   "cell_type": "code",
   "execution_count": 58,
   "outputs": [],
   "source": [
    "# interpolated_df.to_csv(data_path + '/results/processed_data.csv')"
   ],
   "metadata": {
    "collapsed": false
   }
  },
  {
   "cell_type": "code",
   "execution_count": 59,
   "outputs": [],
   "source": [
    "# # define a function to plot the data\n",
    "# from datetime import datetime, timedelta\n",
    "# import matplotlib.dates as mdates\n",
    "# def plot_data(dgroups, moteID, col1, col2, figNum=1):\n",
    "#     # start_time, end_time = '2004-02-28 01:18:46', '2004-03-11 18:27:40'\n",
    "#     # time_format = '%Y-%m-%d %H:%M:%S'\n",
    "#     # start_time, end_time = datetime.strptime(start_time, time_format), datetime.strptime(end_time, time_format)\n",
    "#     # time_duration = end_time - start_time\n",
    "#     # quarter_duration = time_duration / 4\n",
    "#     # first_quarter = start_time + quarter_duration\n",
    "#     # second_quarter = start_time + 2 * quarter_duration\n",
    "#     # third_quarter = start_time + 3 * quarter_duration\n",
    "#     # time_list = [start_time, first_quarter, second_quarter, third_quarter, end_time]\n",
    "#     # timestamp_list = [pd.Timestamp(dt) for dt in time_list]\n",
    "#\n",
    "#\n",
    "#     fig = plt.figure(figsize=(7, 10), num=figNum)\n",
    "#     axs = iSubplot(nrows=6, ncols=4, Gap=(0.08, 0.03), Min=(0.07, 0.04), Max=(0.945, 0.96)).flatten()\n",
    "#     axs[-1].set_visible(False)  # last axes is not used\n",
    "#     # axs[-2].set_visible(False)  # last axes is not used\n",
    "#\n",
    "#     moteNum = 0\n",
    "#     for m in moteID:\n",
    "#         ax1 = axs[moteNum]\n",
    "#         pos = ax1.get_position()\n",
    "#         moteNum += 1\n",
    "#\n",
    "#         gdata = dgroups.get_group(m)\n",
    "#\n",
    "#         if not isinstance(col1, list):\n",
    "#             ax1.set_prop_cycle('color', ['m', 'c', 'y'])\n",
    "#         else:\n",
    "#             ax1.set_prop_cycle('color', ['k', 'g', 'b'])\n",
    "#\n",
    "#         lines1 = ax1.plot(gdata['second'], gdata[col1], label=col1)\n",
    "#         ax1.tick_params(labelsize=8)\n",
    "#         ax1.set_ylim(bottom=0)\n",
    "#         ax1.set_xlim(left=0)\n",
    "#         ax1.ticklabel_format(style='sci', axis='x')\n",
    "#         ax1.set_xticks([0, 500000, 1000000])\n",
    "#         # date_format = mdates.DateFormatter('%Y-%m-%d %H:%M:%S')\n",
    "#         # ax1.xaxis.set_major_formatter(date_format)\n",
    "#\n",
    "#\n",
    "#         if moteNum > 23:\n",
    "#             ax1.set_xlabel('Time Stamp', fontdict={'fontsize': 12})\n",
    "#         if moteNum == 13:\n",
    "#             if not isinstance(col1, list):\n",
    "#                 ylabel = col1\n",
    "#             else:\n",
    "#                 ylabel = ', '.join(map(str, col1))\n",
    "#             ax1.set_ylabel(ylabel, fontdict={'fontsize': 12})\n",
    "#\n",
    "#         ax1.text(0.03, 0.8, 'mote ' + str(m), transform=ax1.transAxes, ha='left', va='top',\n",
    "#                  fontdict={'fontsize': 12, 'fontweight': 'bold'})\n",
    "#\n",
    "#         ax2 = ax1.twinx()\n",
    "#         ax2.set_position([pos.x0, pos.y0, pos.width, pos.height])\n",
    "#         lines2 = ax2.plot(gdata['second'], gdata[col2], 'r', label=col2)\n",
    "#         ax2.tick_params(labelsize=8)\n",
    "#         ax2.set_ylim(bottom=0)\n",
    "#         ax2.set_xlim(left=0)\n",
    "#\n",
    "#         if moteNum == 16:\n",
    "#             ax2.set_ylabel(col2, fontdict={'fontsize': 12})\n",
    "#\n",
    "#         if moteNum == 27:\n",
    "#             if not isinstance(col1, list):\n",
    "#                 col1 = [col1]\n",
    "#             if not isinstance(col2, list):\n",
    "#                 col2 = [col2]\n",
    "#\n",
    "#             plt.legend(lines1 + lines2, col1 + col2, fontsize=12, loc='lower left', bbox_to_anchor=(0, 0.965, 1, 0.05), \\\n",
    "#                        mode='expand', ncol=3, handlelength=1, borderaxespad=0.1, edgecolor='k',\n",
    "#                        bbox_transform=fig.transFigure)\n",
    "#\n",
    "#     plt.show(block=False)\n",
    "#\n",
    "#     return fig\n",
    "#\n",
    "# def iSubplot(nrows=1, ncols=1, Gap=(0.05, 0.05), Min=(0.05, 0.05), Max=(0.98, 0.98), sharex=False, sharey=False,\n",
    "#              xscale='linear', yscale='linear'):\n",
    "#     fig = plt.gcf()\n",
    "#     fig.clf()\n",
    "#\n",
    "#     _, axs = plt.subplots(nrows, ncols, sharex=sharex, sharey=sharey, squeeze=False, num=fig.number)\n",
    "#\n",
    "#     ind_width = (Max[0] - Min[0] - (ncols - 1) * Gap[0]) / ncols\n",
    "#     ind_height = (Max[1] - Min[1] - (nrows - 1) * Gap[1]) / nrows\n",
    "#\n",
    "#     for nr in range(nrows):\n",
    "#         for nc in range(ncols):\n",
    "#             pos = axs[nr, nc].get_position()\n",
    "#             pos.x0 = nc * ind_width + Min[0] + nc * Gap[0]\n",
    "#             pos.y0 = (nrows - nr - 1) * ind_height + Min[1] + (nrows - nr - 1) * Gap[1]\n",
    "#             pos.x1 = (nc + 1) * ind_width + Min[0] + nc * Gap[0]\n",
    "#             pos.y1 = (nrows - nr) * ind_height + Min[1] + (nrows - nr - 1) * Gap[1]\n",
    "#             axs[nr, nc].set_position(pos)\n",
    "#             # set some default properties\n",
    "#             axs[nr, nc].tick_params(direction='in', which='both', labelsize=10)\n",
    "#             axs[nr, nc].set_xscale(xscale)\n",
    "#             axs[nr, nc].set_yscale(yscale)\n",
    "#\n",
    "#     return axs\n",
    "#\n",
    "# plt.rcParams[\"font.family\"] = \"Times New Roman\""
   ],
   "metadata": {
    "collapsed": false
   }
  },
  {
   "cell_type": "code",
   "execution_count": 60,
   "outputs": [],
   "source": [
    "# grouped_data = df.groupby('moteid')\n",
    "# cols = ['temperature', 'humidity', 'voltage', 'light']\n",
    "# modeid = [id for id in mote_loc['moteid'][:30] if id not in [5, 15, 18, 28, 55, 56, 58]]\n",
    "# fig = plot_data(grouped_data, modeid, cols[:2], cols[2], 1)\n",
    "# # fig.savefig(data_path + '/results/temp_hum_volt_part_1.tiff', dpi=600, bbox_inches='tight')"
   ],
   "metadata": {
    "collapsed": false
   }
  },
  {
   "cell_type": "code",
   "execution_count": 61,
   "outputs": [],
   "source": [
    "# modeid = [id for id in mote_loc['moteid'][30:] if id not in [5, 15, 18, 28, 55, 56, 58]]\n",
    "# fig = plot_data(grouped_data, modeid, cols[:2], cols[2], 1)\n",
    "# # fig.savefig(data_path + '/results/temp_hum_volt_part_2.tiff', dpi=600, bbox_inches='tight')"
   ],
   "metadata": {
    "collapsed": false
   }
  },
  {
   "cell_type": "code",
   "execution_count": 62,
   "outputs": [],
   "source": [
    "# modeid = [id for id in mote_loc['moteid'][:30] if id not in [5, 15, 18, 28, 54, 55, 56, 58]]\n",
    "# fig = plot_data(grouped_data, modeid, cols[3], cols[2], 1)\n",
    "# fig.savefig(data_path + '/results/light_volt_part_1.tiff', dpi=600, bbox_inches='tight')"
   ],
   "metadata": {
    "collapsed": false
   }
  },
  {
   "cell_type": "code",
   "execution_count": 63,
   "outputs": [],
   "source": [
    "# modeid = [id for id in mote_loc['moteid'][30:] if id not in [5, 15, 28, 54, 55, 56, 58]]\n",
    "# fig = plot_data(grouped_data, modeid, cols[3], cols[2], 1)\n",
    "# fig.savefig(data_path + '/results/light_volt_part_2.tiff', dpi=600, bbox_inches='tight')"
   ],
   "metadata": {
    "collapsed": false
   }
  },
  {
   "cell_type": "code",
   "execution_count": 64,
   "outputs": [],
   "source": [
    "# # visualize some data and prepare to organize as the target format - moteid - all data\n",
    "# # split training and testing data - injecting abnormal results\n",
    "# data_path = r'C:\\Users\\Thaibite Zeng\\OneDrive - Virginia Tech\\Virginia Tech\\Courses\\2023 Spring\\CS6804\\Project'\n",
    "# df = pd.read_csv(data_path + '/results/processed_data.csv')\n",
    "# mote_loc = pd.read_csv(data_path + '/labapp3-positions.txt', sep='\\s+', names=['moteid', 'x', 'y'])\n",
    "# df['datetime'] = pd.to_datetime(df['time_formatted'], format='%Y-%m-%d %H:%M:%S.%f')\n",
    "# startTime = df['datetime'].min()\n",
    "# df['second'] = (df['datetime'] - startTime) / np.timedelta64(1, 's')\n",
    "# # df"
   ],
   "metadata": {
    "collapsed": false
   }
  },
  {
   "cell_type": "code",
   "execution_count": 65,
   "outputs": [],
   "source": [
    "# # split the training data and inject noise\n",
    "# # split to generate 15-min windows by\n",
    "# moteids_to_remove = [5, 15, 18, 28, 55, 56, 58]\n",
    "# filtered_df = df[~df['moteid'].isin(moteids_to_remove)]\n",
    "# # filtered_df.set_index(['moteid', 'time_formatted'], inplace=True)\n",
    "# # modeid = [id for id in mote_loc['moteid'] if id not in [5, 15, 18, 28, 55, 56, 58]]\n",
    "# grouped_by_moteid = filtered_df.groupby('moteid')\n",
    "# grouped_windows = {}\n",
    "# for moteid, moteid_data in grouped_by_moteid:\n",
    "#     moteid_data = moteid_data.set_index('time_formatted')\n",
    "#     moteid_data.index = pd.to_datetime(moteid_data.index)\n",
    "#     grouped_windows[moteid] = moteid_data.groupby(pd.Grouper(freq='10T'))"
   ],
   "metadata": {
    "collapsed": false
   }
  },
  {
   "cell_type": "code",
   "execution_count": 66,
   "outputs": [],
   "source": [
    "# for moteid, grouped in grouped_windows.items():\n",
    "#     print(f\"Moteid: {moteid}\")\n",
    "#     for index, group in enumerate(grouped):\n",
    "#         window_start, window_data = group\n",
    "        # print(f\"  Window {index + 1}: {window_start}\\n{window_data}\\n\")\n",
    "#"
   ],
   "metadata": {
    "collapsed": false
   }
  },
  {
   "cell_type": "code",
   "execution_count": 67,
   "outputs": [],
   "source": [
    "# organize the data to be samples\n",
    "# x, y\n",
    "import torch\n",
    "\n",
    "def cut_window(data, labels, slide_win, slide_stride, is_train):\n",
    "    '''\n",
    "\n",
    "    :param data: data from only one column\n",
    "    :param slide_win:\n",
    "    :param slide_stride:\n",
    "    :return:\n",
    "    '''\n",
    "    x_arr = []\n",
    "    labels_arr = []\n",
    "\n",
    "    total_time_len = len(data)\n",
    "    rang = range(slide_win, total_time_len, slide_stride) if is_train else range(slide_win, total_time_len)\n",
    "\n",
    "    for i in rang:\n",
    "\n",
    "        ft = torch.tensor(data[i-slide_win:i, :])\n",
    "\n",
    "        x_arr.append(ft)\n",
    "\n",
    "        labels_arr.append(torch.tensor(labels[i]))\n",
    "\n",
    "    x = torch.stack(x_arr).contiguous()\n",
    "    labels = torch.Tensor(labels_arr).contiguous()\n",
    "    return x, labels\n",
    "\n",
    "\n",
    "def inject_noise(data, labels, ratio):\n",
    "    '''\n",
    "    How should one generate data considering mote information?\n",
    "    :param data: should be df - n * moteid * window_size * feature\n",
    "    :param labels:\n",
    "    :param ratio:\n",
    "    :return:\n",
    "    '''\n",
    "    noisy_sample_size = int(len(data) * ratio)\n",
    "    noisy_index = np.random.choice(len(data), noisy_sample_size)\n",
    "    mode = ['Noise', 'Short-term', 'Fixed']\n",
    "\n",
    "    for index in noisy_index:\n",
    "        random_mote = np.random.choice(data.shape[1], int(data.shape[1] * 0.5))\n",
    "        random_sensor = np.random.choice(data.shape[3], int(data.shape[3] * 0.5))\n",
    "        fault_mode = mode[np.random.choice(3, 1)[0]]\n",
    "\n",
    "        if fault_mode == 'Noise': #data[index, random_mote, :, :][:, :,random_sensor]\n",
    "            std = np.std(data[index, random_mote, :, :][:, :,random_sensor], axis=1)\n",
    "            data[index, random_mote, :, :][:, :,random_sensor] = data[index, random_mote, :, :][:, :,random_sensor] + np.random.normal(np.zeros(random_sensor), std*10)\n",
    "        elif fault_mode == 'Short-term':\n",
    "            data[index, random_mote, :, random_sensor] += data[index, random_mote, :, random_sensor] * 5\n",
    "        elif fault_mode == 'Fixed':\n",
    "            mean = np.mean(data[index, random_mote, :, random_sensor], axis=1)\n",
    "            data[index, random_mote, :, random_sensor] = mean\n",
    "\n",
    "    labels[noisy_index] = 1\n",
    "\n",
    "\n",
    "    return data, labels\n",
    "\n"
   ],
   "metadata": {
    "collapsed": false
   }
  },
  {
   "cell_type": "code",
   "execution_count": 68,
   "outputs": [],
   "source": [
    "data_path = r'C:\\Users\\Thaibite Zeng\\OneDrive - Virginia Tech\\Virginia Tech\\Courses\\2023 Spring\\CS6804\\Project'\n",
    "save_path = r'C:\\Users\\Thaibite Zeng\\VT_research\\GraphNN\\data'\n",
    "df = pd.read_csv(data_path + '/results/processed_data.csv')\n",
    "moteids_to_remove = [5, 15, 18, 28, 55, 56, 58]\n",
    "filtered_df = df[~df['moteid'].isin(moteids_to_remove)]\n",
    "grouped_by_moteid = filtered_df.groupby('moteid')\n",
    "feature_cols = ['temperature', 'humidity', 'voltage', 'light']\n",
    "slide_win, slide_stride, is_train = 10, 5, True\n"
   ],
   "metadata": {
    "collapsed": false
   }
  },
  {
   "cell_type": "code",
   "execution_count": 69,
   "outputs": [],
   "source": [
    "# inject noise to create testing samples - from original csv for visualization?\n",
    "# n * moteid * window_size * feature\n",
    "\n",
    "data_moteid = {}\n",
    "length_all = []\n",
    "for moteid, moteid_data in grouped_by_moteid:\n",
    "    moteid_data = moteid_data.sort_values(by='time_formatted', ascending=True)\n",
    "    moteid_data['label'] = 0\n",
    "    data = moteid_data[feature_cols].values\n",
    "    # print('length: ', len(data))\n",
    "    data_win, label_win = cut_window(data, moteid_data['label'].values, slide_win, slide_stride, is_train)\n",
    "    length_all.append(len(data_win))\n",
    "    data_moteid[moteid] = data_win\n",
    "\n",
    "min_len = min(length_all)\n",
    "for moteid, moteid_data in grouped_by_moteid:\n",
    "    data_moteid[moteid] = data_moteid[moteid][:min_len]\n",
    "\n",
    "label_win = label_win[:min_len]\n",
    "\n",
    "sorted_items = sorted(data_moteid.items(), key=lambda x: x[0])\n",
    "sorted_keys = [item[0] for item in sorted_items]\n",
    "moteid_values = [item[1].unsqueeze(1) for item in sorted_items]\n",
    "# moteid_values = [item[1].reshape(item[1].shape[0], -1).unsqueeze(1) for item in sorted_items]\n",
    "moteid_values_ = torch.cat(moteid_values, dim=1)\n"
   ],
   "metadata": {
    "collapsed": false
   }
  },
  {
   "cell_type": "code",
   "execution_count": 72,
   "outputs": [
    {
     "ename": "KeyboardInterrupt",
     "evalue": "",
     "output_type": "error",
     "traceback": [
      "\u001B[1;31m---------------------------------------------------------------------------\u001B[0m",
      "\u001B[1;31mKeyboardInterrupt\u001B[0m                         Traceback (most recent call last)",
      "\u001B[1;32m~\\AppData\\Local\\Temp\\ipykernel_28564\\879700738.py\u001B[0m in \u001B[0;36m<module>\u001B[1;34m\u001B[0m\n\u001B[0;32m      2\u001B[0m \u001B[0mall_data\u001B[0m \u001B[1;33m=\u001B[0m \u001B[0mmoteid_values_\u001B[0m\u001B[1;33m.\u001B[0m\u001B[0mnumpy\u001B[0m\u001B[1;33m(\u001B[0m\u001B[1;33m)\u001B[0m\u001B[1;33m\u001B[0m\u001B[1;33m\u001B[0m\u001B[0m\n\u001B[0;32m      3\u001B[0m \u001B[0mall_label\u001B[0m \u001B[1;33m=\u001B[0m \u001B[0mlabel_win\u001B[0m\u001B[1;33m.\u001B[0m\u001B[0mnumpy\u001B[0m\u001B[1;33m(\u001B[0m\u001B[1;33m)\u001B[0m\u001B[1;33m\u001B[0m\u001B[1;33m\u001B[0m\u001B[0m\n\u001B[1;32m----> 4\u001B[1;33m \u001B[0mdata\u001B[0m\u001B[1;33m,\u001B[0m \u001B[0mlabels\u001B[0m \u001B[1;33m=\u001B[0m \u001B[0minject_noise\u001B[0m\u001B[1;33m(\u001B[0m\u001B[0mall_data\u001B[0m\u001B[1;33m,\u001B[0m \u001B[0mall_label\u001B[0m\u001B[1;33m,\u001B[0m \u001B[0mratio\u001B[0m\u001B[1;33m)\u001B[0m\u001B[1;33m\u001B[0m\u001B[1;33m\u001B[0m\u001B[0m\n\u001B[0m\u001B[0;32m      5\u001B[0m \u001B[1;33m\u001B[0m\u001B[0m\n\u001B[0;32m      6\u001B[0m \u001B[0mnp\u001B[0m\u001B[1;33m.\u001B[0m\u001B[0msave\u001B[0m\u001B[1;33m(\u001B[0m\u001B[0mmoteid_values_\u001B[0m\u001B[1;33m,\u001B[0m \u001B[0msave_path\u001B[0m \u001B[1;33m+\u001B[0m \u001B[1;34m'/x_all_win_{}_stride_{}'\u001B[0m\u001B[1;33m.\u001B[0m\u001B[0mformat\u001B[0m\u001B[1;33m(\u001B[0m\u001B[0mslide_win\u001B[0m\u001B[1;33m,\u001B[0m \u001B[0mslide_stride\u001B[0m\u001B[1;33m)\u001B[0m\u001B[1;33m)\u001B[0m\u001B[1;33m\u001B[0m\u001B[1;33m\u001B[0m\u001B[0m\n",
      "\u001B[1;32m~\\AppData\\Local\\Temp\\ipykernel_28564\\559525416.py\u001B[0m in \u001B[0;36minject_noise\u001B[1;34m(data, labels, ratio)\u001B[0m\n\u001B[0;32m     47\u001B[0m         \u001B[0mfault_mode\u001B[0m \u001B[1;33m=\u001B[0m \u001B[0mmode\u001B[0m\u001B[1;33m[\u001B[0m\u001B[0mnp\u001B[0m\u001B[1;33m.\u001B[0m\u001B[0mrandom\u001B[0m\u001B[1;33m.\u001B[0m\u001B[0mchoice\u001B[0m\u001B[1;33m(\u001B[0m\u001B[1;36m3\u001B[0m\u001B[1;33m,\u001B[0m \u001B[1;36m1\u001B[0m\u001B[1;33m)\u001B[0m\u001B[1;33m[\u001B[0m\u001B[1;36m0\u001B[0m\u001B[1;33m]\u001B[0m\u001B[1;33m]\u001B[0m\u001B[1;33m\u001B[0m\u001B[1;33m\u001B[0m\u001B[0m\n\u001B[0;32m     48\u001B[0m \u001B[1;33m\u001B[0m\u001B[0m\n\u001B[1;32m---> 49\u001B[1;33m         \u001B[1;32mif\u001B[0m \u001B[0mfault_mode\u001B[0m \u001B[1;33m==\u001B[0m \u001B[1;34m'Noise'\u001B[0m\u001B[1;33m:\u001B[0m\u001B[1;33m\u001B[0m\u001B[1;33m\u001B[0m\u001B[0m\n\u001B[0m\u001B[0;32m     50\u001B[0m             \u001B[0mstd\u001B[0m \u001B[1;33m=\u001B[0m \u001B[0mnp\u001B[0m\u001B[1;33m.\u001B[0m\u001B[0mstd\u001B[0m\u001B[1;33m(\u001B[0m\u001B[0mdata\u001B[0m\u001B[1;33m[\u001B[0m\u001B[0mindex\u001B[0m\u001B[1;33m,\u001B[0m \u001B[0mrandom_mote\u001B[0m\u001B[1;33m,\u001B[0m \u001B[1;33m:\u001B[0m\u001B[1;33m,\u001B[0m \u001B[0mrandom_sensor\u001B[0m\u001B[1;33m]\u001B[0m\u001B[1;33m,\u001B[0m \u001B[0maxis\u001B[0m\u001B[1;33m=\u001B[0m\u001B[1;36m1\u001B[0m\u001B[1;33m)\u001B[0m\u001B[1;33m\u001B[0m\u001B[1;33m\u001B[0m\u001B[0m\n\u001B[0;32m     51\u001B[0m             \u001B[0mdata\u001B[0m\u001B[1;33m[\u001B[0m\u001B[0mindex\u001B[0m\u001B[1;33m,\u001B[0m \u001B[0mrandom_mote\u001B[0m\u001B[1;33m,\u001B[0m \u001B[1;33m:\u001B[0m\u001B[1;33m,\u001B[0m \u001B[0mrandom_sensor\u001B[0m\u001B[1;33m]\u001B[0m \u001B[1;33m=\u001B[0m \u001B[0mdata\u001B[0m\u001B[1;33m[\u001B[0m\u001B[0mindex\u001B[0m\u001B[1;33m,\u001B[0m \u001B[0mrandom_mote\u001B[0m\u001B[1;33m,\u001B[0m \u001B[1;33m:\u001B[0m\u001B[1;33m,\u001B[0m \u001B[0mrandom_sensor\u001B[0m\u001B[1;33m]\u001B[0m \u001B[1;33m+\u001B[0m \u001B[0mnp\u001B[0m\u001B[1;33m.\u001B[0m\u001B[0mrandom\u001B[0m\u001B[1;33m.\u001B[0m\u001B[0mnormal\u001B[0m\u001B[1;33m(\u001B[0m\u001B[0mnp\u001B[0m\u001B[1;33m.\u001B[0m\u001B[0mzeros\u001B[0m\u001B[1;33m(\u001B[0m\u001B[0mrandom_sensor\u001B[0m\u001B[1;33m)\u001B[0m\u001B[1;33m,\u001B[0m \u001B[0mstd\u001B[0m\u001B[1;33m*\u001B[0m\u001B[1;36m10\u001B[0m\u001B[1;33m)\u001B[0m\u001B[1;33m\u001B[0m\u001B[1;33m\u001B[0m\u001B[0m\n",
      "\u001B[1;32m~\\AppData\\Local\\Temp\\ipykernel_28564\\559525416.py\u001B[0m in \u001B[0;36minject_noise\u001B[1;34m(data, labels, ratio)\u001B[0m\n\u001B[0;32m     47\u001B[0m         \u001B[0mfault_mode\u001B[0m \u001B[1;33m=\u001B[0m \u001B[0mmode\u001B[0m\u001B[1;33m[\u001B[0m\u001B[0mnp\u001B[0m\u001B[1;33m.\u001B[0m\u001B[0mrandom\u001B[0m\u001B[1;33m.\u001B[0m\u001B[0mchoice\u001B[0m\u001B[1;33m(\u001B[0m\u001B[1;36m3\u001B[0m\u001B[1;33m,\u001B[0m \u001B[1;36m1\u001B[0m\u001B[1;33m)\u001B[0m\u001B[1;33m[\u001B[0m\u001B[1;36m0\u001B[0m\u001B[1;33m]\u001B[0m\u001B[1;33m]\u001B[0m\u001B[1;33m\u001B[0m\u001B[1;33m\u001B[0m\u001B[0m\n\u001B[0;32m     48\u001B[0m \u001B[1;33m\u001B[0m\u001B[0m\n\u001B[1;32m---> 49\u001B[1;33m         \u001B[1;32mif\u001B[0m \u001B[0mfault_mode\u001B[0m \u001B[1;33m==\u001B[0m \u001B[1;34m'Noise'\u001B[0m\u001B[1;33m:\u001B[0m\u001B[1;33m\u001B[0m\u001B[1;33m\u001B[0m\u001B[0m\n\u001B[0m\u001B[0;32m     50\u001B[0m             \u001B[0mstd\u001B[0m \u001B[1;33m=\u001B[0m \u001B[0mnp\u001B[0m\u001B[1;33m.\u001B[0m\u001B[0mstd\u001B[0m\u001B[1;33m(\u001B[0m\u001B[0mdata\u001B[0m\u001B[1;33m[\u001B[0m\u001B[0mindex\u001B[0m\u001B[1;33m,\u001B[0m \u001B[0mrandom_mote\u001B[0m\u001B[1;33m,\u001B[0m \u001B[1;33m:\u001B[0m\u001B[1;33m,\u001B[0m \u001B[0mrandom_sensor\u001B[0m\u001B[1;33m]\u001B[0m\u001B[1;33m,\u001B[0m \u001B[0maxis\u001B[0m\u001B[1;33m=\u001B[0m\u001B[1;36m1\u001B[0m\u001B[1;33m)\u001B[0m\u001B[1;33m\u001B[0m\u001B[1;33m\u001B[0m\u001B[0m\n\u001B[0;32m     51\u001B[0m             \u001B[0mdata\u001B[0m\u001B[1;33m[\u001B[0m\u001B[0mindex\u001B[0m\u001B[1;33m,\u001B[0m \u001B[0mrandom_mote\u001B[0m\u001B[1;33m,\u001B[0m \u001B[1;33m:\u001B[0m\u001B[1;33m,\u001B[0m \u001B[0mrandom_sensor\u001B[0m\u001B[1;33m]\u001B[0m \u001B[1;33m=\u001B[0m \u001B[0mdata\u001B[0m\u001B[1;33m[\u001B[0m\u001B[0mindex\u001B[0m\u001B[1;33m,\u001B[0m \u001B[0mrandom_mote\u001B[0m\u001B[1;33m,\u001B[0m \u001B[1;33m:\u001B[0m\u001B[1;33m,\u001B[0m \u001B[0mrandom_sensor\u001B[0m\u001B[1;33m]\u001B[0m \u001B[1;33m+\u001B[0m \u001B[0mnp\u001B[0m\u001B[1;33m.\u001B[0m\u001B[0mrandom\u001B[0m\u001B[1;33m.\u001B[0m\u001B[0mnormal\u001B[0m\u001B[1;33m(\u001B[0m\u001B[0mnp\u001B[0m\u001B[1;33m.\u001B[0m\u001B[0mzeros\u001B[0m\u001B[1;33m(\u001B[0m\u001B[0mrandom_sensor\u001B[0m\u001B[1;33m)\u001B[0m\u001B[1;33m,\u001B[0m \u001B[0mstd\u001B[0m\u001B[1;33m*\u001B[0m\u001B[1;36m10\u001B[0m\u001B[1;33m)\u001B[0m\u001B[1;33m\u001B[0m\u001B[1;33m\u001B[0m\u001B[0m\n",
      "\u001B[1;32m_pydevd_bundle\\pydevd_cython_win32_37_64.pyx\u001B[0m in \u001B[0;36m_pydevd_bundle.pydevd_cython_win32_37_64.SafeCallWrapper.__call__\u001B[1;34m()\u001B[0m\n",
      "\u001B[1;32m_pydevd_bundle\\pydevd_cython_win32_37_64.pyx\u001B[0m in \u001B[0;36m_pydevd_bundle.pydevd_cython_win32_37_64.PyDBFrame.trace_dispatch\u001B[1;34m()\u001B[0m\n",
      "\u001B[1;32m_pydevd_bundle\\pydevd_cython_win32_37_64.pyx\u001B[0m in \u001B[0;36m_pydevd_bundle.pydevd_cython_win32_37_64.PyDBFrame.trace_dispatch\u001B[1;34m()\u001B[0m\n",
      "\u001B[1;32m_pydevd_bundle\\pydevd_cython_win32_37_64.pyx\u001B[0m in \u001B[0;36m_pydevd_bundle.pydevd_cython_win32_37_64.PyDBFrame.trace_dispatch\u001B[1;34m()\u001B[0m\n",
      "\u001B[1;32m_pydevd_bundle\\pydevd_cython_win32_37_64.pyx\u001B[0m in \u001B[0;36m_pydevd_bundle.pydevd_cython_win32_37_64.PyDBFrame.do_wait_suspend\u001B[1;34m()\u001B[0m\n",
      "\u001B[1;32mC:\\Program Files\\JetBrains\\PyCharm 2022.3.2\\plugins\\python\\helpers\\pydev\\pydevd.py\u001B[0m in \u001B[0;36mdo_wait_suspend\u001B[1;34m(self, thread, frame, event, arg, send_suspend_message, is_unhandled_exception)\u001B[0m\n\u001B[0;32m   1158\u001B[0m \u001B[1;33m\u001B[0m\u001B[0m\n\u001B[0;32m   1159\u001B[0m         \u001B[1;32mwith\u001B[0m \u001B[0mself\u001B[0m\u001B[1;33m.\u001B[0m\u001B[0m_threads_suspended_single_notification\u001B[0m\u001B[1;33m.\u001B[0m\u001B[0mnotify_thread_suspended\u001B[0m\u001B[1;33m(\u001B[0m\u001B[0mthread_id\u001B[0m\u001B[1;33m,\u001B[0m \u001B[0mstop_reason\u001B[0m\u001B[1;33m)\u001B[0m\u001B[1;33m:\u001B[0m\u001B[1;33m\u001B[0m\u001B[1;33m\u001B[0m\u001B[0m\n\u001B[1;32m-> 1160\u001B[1;33m             \u001B[0mself\u001B[0m\u001B[1;33m.\u001B[0m\u001B[0m_do_wait_suspend\u001B[0m\u001B[1;33m(\u001B[0m\u001B[0mthread\u001B[0m\u001B[1;33m,\u001B[0m \u001B[0mframe\u001B[0m\u001B[1;33m,\u001B[0m \u001B[0mevent\u001B[0m\u001B[1;33m,\u001B[0m \u001B[0marg\u001B[0m\u001B[1;33m,\u001B[0m \u001B[0msuspend_type\u001B[0m\u001B[1;33m,\u001B[0m \u001B[0mfrom_this_thread\u001B[0m\u001B[1;33m)\u001B[0m\u001B[1;33m\u001B[0m\u001B[1;33m\u001B[0m\u001B[0m\n\u001B[0m\u001B[0;32m   1161\u001B[0m \u001B[1;33m\u001B[0m\u001B[0m\n\u001B[0;32m   1162\u001B[0m     \u001B[1;32mdef\u001B[0m \u001B[0m_do_wait_suspend\u001B[0m\u001B[1;33m(\u001B[0m\u001B[0mself\u001B[0m\u001B[1;33m,\u001B[0m \u001B[0mthread\u001B[0m\u001B[1;33m,\u001B[0m \u001B[0mframe\u001B[0m\u001B[1;33m,\u001B[0m \u001B[0mevent\u001B[0m\u001B[1;33m,\u001B[0m \u001B[0marg\u001B[0m\u001B[1;33m,\u001B[0m \u001B[0msuspend_type\u001B[0m\u001B[1;33m,\u001B[0m \u001B[0mfrom_this_thread\u001B[0m\u001B[1;33m)\u001B[0m\u001B[1;33m:\u001B[0m\u001B[1;33m\u001B[0m\u001B[1;33m\u001B[0m\u001B[0m\n",
      "\u001B[1;32mC:\\Program Files\\JetBrains\\PyCharm 2022.3.2\\plugins\\python\\helpers\\pydev\\pydevd.py\u001B[0m in \u001B[0;36m_do_wait_suspend\u001B[1;34m(self, thread, frame, event, arg, suspend_type, from_this_thread)\u001B[0m\n\u001B[0;32m   1173\u001B[0m \u001B[1;33m\u001B[0m\u001B[0m\n\u001B[0;32m   1174\u001B[0m                 \u001B[0mself\u001B[0m\u001B[1;33m.\u001B[0m\u001B[0mprocess_internal_commands\u001B[0m\u001B[1;33m(\u001B[0m\u001B[1;33m)\u001B[0m\u001B[1;33m\u001B[0m\u001B[1;33m\u001B[0m\u001B[0m\n\u001B[1;32m-> 1175\u001B[1;33m                 \u001B[0mtime\u001B[0m\u001B[1;33m.\u001B[0m\u001B[0msleep\u001B[0m\u001B[1;33m(\u001B[0m\u001B[1;36m0.01\u001B[0m\u001B[1;33m)\u001B[0m\u001B[1;33m\u001B[0m\u001B[1;33m\u001B[0m\u001B[0m\n\u001B[0m\u001B[0;32m   1176\u001B[0m \u001B[1;33m\u001B[0m\u001B[0m\n\u001B[0;32m   1177\u001B[0m         \u001B[0mself\u001B[0m\u001B[1;33m.\u001B[0m\u001B[0mcancel_async_evaluation\u001B[0m\u001B[1;33m(\u001B[0m\u001B[0mget_current_thread_id\u001B[0m\u001B[1;33m(\u001B[0m\u001B[0mthread\u001B[0m\u001B[1;33m)\u001B[0m\u001B[1;33m,\u001B[0m \u001B[0mstr\u001B[0m\u001B[1;33m(\u001B[0m\u001B[0mid\u001B[0m\u001B[1;33m(\u001B[0m\u001B[0mframe\u001B[0m\u001B[1;33m)\u001B[0m\u001B[1;33m)\u001B[0m\u001B[1;33m)\u001B[0m\u001B[1;33m\u001B[0m\u001B[1;33m\u001B[0m\u001B[0m\n",
      "\u001B[1;31mKeyboardInterrupt\u001B[0m: "
     ]
    }
   ],
   "source": [
    "ratio = 0.33\n",
    "all_data = moteid_values_.numpy()\n",
    "all_label = label_win.numpy()\n",
    "data, labels = inject_noise(all_data, all_label, ratio)\n",
    "\n",
    "np.save(moteid_values_, save_path + '/x_all_win_{}_stride_{}'.format(slide_win, slide_stride))\n",
    "np.save(label_win, save_path + '/label_all_win_{}_stride_{}'.format(slide_win, slide_stride))"
   ],
   "metadata": {
    "collapsed": false
   }
  },
  {
   "cell_type": "code",
   "execution_count": null,
   "outputs": [],
   "source": [
    "# generate training and normalize the data\n",
    "# from sklearn.model_selection import train_test_split\n",
    "# all_data = moteid_values_.numpy()\n",
    "# all_label = label_win.numpy()\n",
    "#\n",
    "# X_train, X_test, y_train, y_test = train_test_split(X, y, test_size=0.33, random_state=42)\n",
    "#\n",
    "# torch.save(moteid_values_, save_path + '/x_train_win_{}_stride_{}.pt'.format(slide_win, slide_stride))\n",
    "# torch.save(label_win, save_path + '/label_train_win_{}_stride_{}.pt'.format(slide_win, slide_stride))"
   ],
   "metadata": {
    "collapsed": false
   }
  },
  {
   "cell_type": "code",
   "execution_count": null,
   "outputs": [],
   "source": [
    "# sorted_items = sorted(data_moteid.items(), key=lambda x: x[0])\n",
    "# sorted_keys = [item[0] for item in sorted_items]\n",
    "# moteid_values = [item[1].reshape(item[1].shape[0], -1).unsqueeze(1) for item in sorted_items]\n",
    "# moteid_values_ = torch.cat(moteid_values, dim=1)\n",
    "#\n",
    "# torch.save(moteid_values_, save_path + '/x_all_win_{}_stride_{}.pt'.format(slide_win, slide_stride))\n",
    "# torch.save(label_win, save_path + '/label_all_win_{}_stride_{}.pt'.format(slide_win, slide_stride))\n",
    "#\n",
    "#"
   ],
   "metadata": {
    "collapsed": false
   }
  },
  {
   "cell_type": "code",
   "execution_count": null,
   "outputs": [],
   "source": [
    "# A = np.random.choice(3, 2)\n",
    "# B = np.array([0, 10, 29])\n",
    "# B[A].shape"
   ],
   "metadata": {
    "collapsed": false
   }
  },
  {
   "cell_type": "markdown",
   "source": [],
   "metadata": {
    "collapsed": false
   }
  }
 ],
 "metadata": {
  "kernelspec": {
   "display_name": "Python 3",
   "language": "python",
   "name": "python3"
  },
  "language_info": {
   "codemirror_mode": {
    "name": "ipython",
    "version": 2
   },
   "file_extension": ".py",
   "mimetype": "text/x-python",
   "name": "python",
   "nbconvert_exporter": "python",
   "pygments_lexer": "ipython2",
   "version": "2.7.6"
  }
 },
 "nbformat": 4,
 "nbformat_minor": 0
}
